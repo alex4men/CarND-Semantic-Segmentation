{
 "cells": [
  {
   "cell_type": "code",
   "execution_count": 1,
   "metadata": {},
   "outputs": [],
   "source": [
    "import os.path\n",
    "import tensorflow as tf\n",
    "import helper\n",
    "import warnings\n",
    "from distutils.version import LooseVersion\n",
    "import project_tests as tests\n",
    "import time"
   ]
  },
  {
   "cell_type": "code",
   "execution_count": 2,
   "metadata": {},
   "outputs": [
    {
     "name": "stdout",
     "output_type": "stream",
     "text": [
      "TensorFlow Version: 1.14.0\n",
      "Default GPU Device: /device:GPU:0\n"
     ]
    }
   ],
   "source": [
    "# Check TensorFlow Version\n",
    "assert LooseVersion(tf.__version__) >= LooseVersion('1.0'), 'Please use TensorFlow version 1.0 or newer.  You are using {}'.format(tf.__version__)\n",
    "print('TensorFlow Version: {}'.format(tf.__version__))\n",
    "\n",
    "# Check for a GPU\n",
    "if not tf.test.gpu_device_name():\n",
    "    warnings.warn('No GPU found. Please use a GPU to train your neural network.')\n",
    "else:\n",
    "    print('Default GPU Device: {}'.format(tf.test.gpu_device_name()))"
   ]
  },
  {
   "cell_type": "code",
   "execution_count": 3,
   "metadata": {},
   "outputs": [
    {
     "name": "stderr",
     "output_type": "stream",
     "text": [
      "WARNING: Logging before flag parsing goes to stderr.\n",
      "W0907 03:05:48.297923 139671454058240 deprecation_wrapper.py:119] From /home/alex/Documents/CarND-Semantic-Segmentation/project_tests.py:69: The name tf.saved_model.loader.load is deprecated. Please use tf.compat.v1.saved_model.loader.load instead.\n",
      "\n",
      "W0907 03:05:48.299326 139671454058240 deprecation_wrapper.py:119] From /home/alex/Documents/CarND-Semantic-Segmentation/project_tests.py:84: The name tf.Session is deprecated. Please use tf.compat.v1.Session instead.\n",
      "\n",
      "W0907 03:05:48.325362 139671454058240 deprecation_wrapper.py:119] From /home/alex/Documents/CarND-Semantic-Segmentation/project_tests.py:85: The name tf.placeholder is deprecated. Please use tf.compat.v1.placeholder instead.\n",
      "\n"
     ]
    },
    {
     "name": "stdout",
     "output_type": "stream",
     "text": [
      "Tests Passed\n"
     ]
    }
   ],
   "source": [
    "def load_vgg(sess, vgg_path):\n",
    "    \"\"\"\n",
    "    Load Pretrained VGG Model into TensorFlow.\n",
    "    :param sess: TensorFlow Session\n",
    "    :param vgg_path: Path to vgg folder, containing \"variables/\" and \"saved_model.pb\"\n",
    "    :return: Tuple of Tensors from VGG model (image_input, keep_prob, layer3_out, layer4_out, layer7_out)\n",
    "    \"\"\"\n",
    "    #   Use tf.saved_model.loader.load to load the model and weights\n",
    "    vgg_tag = 'vgg16'\n",
    "    vgg_input_tensor_name = 'image_input:0'\n",
    "    vgg_keep_prob_tensor_name = 'keep_prob:0'\n",
    "    vgg_layer3_out_tensor_name = 'layer3_out:0'\n",
    "    vgg_layer4_out_tensor_name = 'layer4_out:0'\n",
    "    vgg_layer7_out_tensor_name = 'layer7_out:0'\n",
    "    \n",
    "    tf.saved_model.loader.load(sess, [vgg_tag], vgg_path)\n",
    "    \n",
    "    graph = tf.get_default_graph()\n",
    "    input_image = graph.get_tensor_by_name(vgg_input_tensor_name)\n",
    "    keep_prob = graph.get_tensor_by_name(vgg_keep_prob_tensor_name)\n",
    "    pool3 = graph.get_tensor_by_name(vgg_layer3_out_tensor_name)\n",
    "    pool4 = graph.get_tensor_by_name(vgg_layer4_out_tensor_name)\n",
    "    conv7 = graph.get_tensor_by_name(vgg_layer7_out_tensor_name)\n",
    "   \n",
    "    return input_image, keep_prob, pool3, pool4, conv7\n",
    "tests.test_load_vgg(load_vgg, tf)"
   ]
  },
  {
   "cell_type": "code",
   "execution_count": 4,
   "metadata": {},
   "outputs": [
    {
     "name": "stderr",
     "output_type": "stream",
     "text": [
      "W0907 03:05:48.856924 139671454058240 lazy_loader.py:50] \n",
      "The TensorFlow contrib module will not be included in TensorFlow 2.0.\n",
      "For more information, please see:\n",
      "  * https://github.com/tensorflow/community/blob/master/rfcs/20180907-contrib-sunset.md\n",
      "  * https://github.com/tensorflow/addons\n",
      "  * https://github.com/tensorflow/io (for I/O related ops)\n",
      "If you depend on functionality not listed there, please file an issue.\n",
      "\n",
      "W0907 03:05:48.857417 139671454058240 deprecation.py:323] From <ipython-input-4-39107ca4bec0>:14: conv2d (from tensorflow.python.layers.convolutional) is deprecated and will be removed in a future version.\n",
      "Instructions for updating:\n",
      "Use `tf.keras.layers.Conv2D` instead.\n",
      "W0907 03:05:49.010162 139671454058240 deprecation.py:323] From <ipython-input-4-39107ca4bec0>:19: conv2d_transpose (from tensorflow.python.layers.convolutional) is deprecated and will be removed in a future version.\n",
      "Instructions for updating:\n",
      "Use `tf.keras.layers.Conv2DTranspose` instead.\n",
      "W0907 03:05:49.334028 139671454058240 deprecation_wrapper.py:119] From /home/alex/Documents/CarND-Semantic-Segmentation/project_tests.py:48: The name tf.assert_rank is deprecated. Please use tf.compat.v1.assert_rank instead.\n",
      "\n"
     ]
    },
    {
     "name": "stdout",
     "output_type": "stream",
     "text": [
      "Tests Passed\n"
     ]
    }
   ],
   "source": [
    "def layers(vgg_layer3_out, vgg_layer4_out, vgg_layer7_out, num_classes):\n",
    "    \"\"\"\n",
    "    Create the layers for a fully convolutional network.  Build skip-layers using the vgg layers.\n",
    "    :param vgg_layer3_out: TF Tensor for VGG Layer 3 output\n",
    "    :param vgg_layer4_out: TF Tensor for VGG Layer 4 output\n",
    "    :param vgg_layer7_out: TF Tensor for VGG Layer 7 output\n",
    "    :param num_classes: Number of classes to classify\n",
    "    :return: The Tensor for the last layer of output\n",
    "    \"\"\"\n",
    "    # Prepare conv7 for the fusion\n",
    "    # 1x1 conv to reduce the number of filters from 4096 to the number of classes for our specific model\n",
    "    conv7_reduced = tf.layers.conv2d(vgg_layer7_out, num_classes, 1, padding='same', \n",
    "                                     kernel_initializer=tf.truncated_normal_initializer(stddev=0.001),\n",
    "                                     kernel_regularizer=tf.contrib.layers.l2_regularizer(1e-3))\n",
    "    # TODO: Init Upconv to bilinear interpolation\n",
    "    # Increase spatial dimensions of the layer to match with the layer further back in the network for fusion\n",
    "    conv7x2 = tf.layers.conv2d_transpose(conv7_reduced, num_classes, 4, strides=(2, 2), padding='same', \n",
    "                                         kernel_initializer=tf.truncated_normal_initializer(stddev=0.001),\n",
    "                                         kernel_regularizer=tf.contrib.layers.l2_regularizer(1e-3))\n",
    "    \n",
    "    # Prepare pool4 for the fusion\n",
    "    # First scaling it (gives higher IoU and accuracy, according to the notes from pierluigi.ferrari)\n",
    "    pool4_scaled = tf.multiply(vgg_layer4_out, 0.01, name='pool4_scaled')\n",
    "    # Then reduce the number of filters to the number of classes\n",
    "    pool4_reduced = tf.layers.conv2d(pool4_scaled, num_classes, 1, padding='same', \n",
    "                                     kernel_initializer=tf.truncated_normal_initializer(stddev=0.001),\n",
    "                                     kernel_regularizer=tf.contrib.layers.l2_regularizer(1e-3))\n",
    "    \n",
    "    \n",
    "    # Fuse the layers (Skip Connection)\n",
    "    pool4_conv7x2 = tf.add(pool4_reduced, conv7x2)\n",
    "    \n",
    "    # Upscale pool4_conv7x2\n",
    "    pool4x2_conv7x4 = tf.layers.conv2d_transpose(pool4_conv7x2, num_classes, 4, strides=(2, 2), padding='same', \n",
    "                                                 kernel_initializer=tf.truncated_normal_initializer(stddev=0.001),\n",
    "                                                 kernel_regularizer=tf.contrib.layers.l2_regularizer(1e-3))\n",
    "    \n",
    "    # Prepare pool3 for the fusion\n",
    "    # Scale\n",
    "    pool3_scaled = tf.multiply(vgg_layer3_out, 0.0001, name='pool3_scaled')\n",
    "    # Layers reduction\n",
    "    pool3_reduced = tf.layers.conv2d(pool3_scaled, num_classes, 1, padding='same', \n",
    "                                     kernel_initializer=tf.truncated_normal_initializer(stddev=0.001),\n",
    "                                     kernel_regularizer=tf.contrib.layers.l2_regularizer(1e-3))\n",
    "\n",
    "    # Final fusion\n",
    "    pool3_pool4x2_conv7x4 = tf.add(pool3_reduced, pool4x2_conv7x4)\n",
    "    \n",
    "    # Final upsample\n",
    "    out = tf.layers.conv2d_transpose(pool3_pool4x2_conv7x4, num_classes, 16, strides=(8, 8), padding='same', \n",
    "                                     kernel_initializer=tf.truncated_normal_initializer(stddev=0.001),\n",
    "                                     kernel_regularizer=tf.contrib.layers.l2_regularizer(1e-3))\n",
    "    \n",
    "    return out\n",
    "tests.test_layers(layers)"
   ]
  },
  {
   "cell_type": "code",
   "execution_count": 5,
   "metadata": {},
   "outputs": [
    {
     "name": "stderr",
     "output_type": "stream",
     "text": [
      "W0907 03:05:49.383701 139671454058240 deprecation_wrapper.py:119] From /home/alex/Documents/CarND-Semantic-Segmentation/project_tests.py:137: The name tf.global_variables_initializer is deprecated. Please use tf.compat.v1.global_variables_initializer instead.\n",
      "\n"
     ]
    },
    {
     "name": "stdout",
     "output_type": "stream",
     "text": [
      "Tests Passed\n"
     ]
    }
   ],
   "source": [
    "def optimize(nn_last_layer, correct_label, learning_rate, num_classes):\n",
    "    \"\"\"\n",
    "    Build the TensorFLow loss and optimizer operations.\n",
    "    :param nn_last_layer: TF Tensor of the last layer in the neural network\n",
    "    :param correct_label: TF Placeholder for the correct label image\n",
    "    :param learning_rate: TF Placeholder for the learning rate\n",
    "    :param num_classes: Number of classes to classify\n",
    "    :return: Tuple of (logits, train_op, cross_entropy_loss)\n",
    "    \"\"\"\n",
    "    cross_entropy_loss = tf.reduce_mean(tf.nn.softmax_cross_entropy_with_logits_v2(logits=nn_last_layer, \n",
    "                                                                                   labels=correct_label))\n",
    "    reg_losses = tf.get_collection(tf.GraphKeys.REGULARIZATION_LOSSES)\n",
    "    loss = cross_entropy_loss + sum(reg_losses)\n",
    "    \n",
    "    # Adam optimizer\n",
    "    opt = tf.train.AdamOptimizer(learning_rate=learning_rate)\n",
    "    train_op = opt.minimize(loss)\n",
    "    \n",
    "    return nn_last_layer, train_op, loss\n",
    "tests.test_optimize(optimize)"
   ]
  },
  {
   "cell_type": "code",
   "execution_count": 6,
   "metadata": {},
   "outputs": [],
   "source": [
    "def train_nn(sess, epochs, batch_size, get_batches_fn, train_op, cross_entropy_loss, input_image,\n",
    "             correct_label, keep_prob, learning_rate):\n",
    "    \"\"\"\n",
    "    Train neural network and print out the loss during training.\n",
    "    :param sess: TF Session\n",
    "    :param epochs: Number of epochs\n",
    "    :param batch_size: Batch size\n",
    "    :param get_batches_fn: Function to get batches of training data.  Call using get_batches_fn(batch_size)\n",
    "    :param train_op: TF Operation to train the neural network\n",
    "    :param cross_entropy_loss: TF Tensor for the amount of loss\n",
    "    :param input_image: TF Placeholder for input images\n",
    "    :param correct_label: TF Placeholder for label images\n",
    "    :param keep_prob: TF Placeholder for dropout keep probability\n",
    "    :param learning_rate: TF Placeholder for learning rate\n",
    "    \"\"\"\n",
    "    sess.run(tf.global_variables_initializer())\n",
    "    \n",
    "    for epoch in range(epochs):\n",
    "        print(\"Epoch:\", epoch+1)\n",
    "        t0 = time.time()\n",
    "        \n",
    "        loss_sum = 0\n",
    "        minibatch_count = 0\n",
    "        \n",
    "        for images, labels in get_batches_fn(batch_size):\n",
    "            \n",
    "            feed_dict={input_image: images, correct_label: labels, keep_prob: 0.5, learning_rate: 0.0001}\n",
    "            _, loss = sess.run([train_op, cross_entropy_loss], feed_dict)\n",
    "            \n",
    "            loss_sum += loss\n",
    "            minibatch_count += 1\n",
    "            \n",
    "        print(\"Time: %.3f seconds\" % (time.time() - t0))\n",
    "        print(\"Train Loss =\", loss_sum/minibatch_count)\n",
    "\n",
    "    print(\"Done training!\")\n",
    "\n",
    "tests.test_train_nn(train_nn)"
   ]
  },
  {
   "cell_type": "code",
   "execution_count": 7,
   "metadata": {},
   "outputs": [],
   "source": [
    "def run():\n",
    "    num_classes = 2\n",
    "    image_shape = (160, 576)  # KITTI dataset uses 160x576 images\n",
    "    data_dir = './data'\n",
    "    runs_dir = './runs'\n",
    "    tests.test_for_kitti_dataset(data_dir)\n",
    "\n",
    "    # Download pretrained vgg model\n",
    "    helper.maybe_download_pretrained_vgg(data_dir)\n",
    "\n",
    "    # OPTIONAL: Train and Inference on the cityscapes dataset instead of the Kitti dataset.\n",
    "    # You'll need a GPU with at least 10 teraFLOPS to train on.\n",
    "    #  https://www.cityscapes-dataset.com/\n",
    "\n",
    "    with tf.Session() as sess:\n",
    "        # Path to vgg model\n",
    "        vgg_path = os.path.join(data_dir, 'vgg')\n",
    "        # Create function to get batches\n",
    "        get_batches_fn = helper.gen_batch_function(os.path.join(data_dir, 'data_road/training'), image_shape)\n",
    "\n",
    "        # OPTIONAL: Augment Images for better results\n",
    "        #  https://datascience.stackexchange.com/questions/5224/how-to-prepare-augment-images-for-neural-network\n",
    "\n",
    "        # Build NN using load_vgg, layers, and optimize function\n",
    "        # Placeholders\n",
    "        correct_label = tf.placeholder(tf.int32, [None, None, None, num_classes])\n",
    "        learning_rate = tf.placeholder(tf.float32)\n",
    "        \n",
    "        # Load the VGG16\n",
    "        input_image, keep_prob, pool3, pool4, conv7 = load_vgg(sess, vgg_path)\n",
    "        # Add new layers\n",
    "        layer_output = layers(pool3, pool4, conv7, num_classes)\n",
    "        # Create optimizer\n",
    "        logits, train_op, cross_entropy_loss = optimize(layer_output, correct_label, learning_rate, num_classes)\n",
    "\n",
    "        # Train NN using the train_nn function\n",
    "        epochs = 10\n",
    "        batch_size = 17\n",
    "        \n",
    "        saver = tf.train.Saver()\n",
    "        \n",
    "        train_nn(sess, epochs, batch_size, get_batches_fn, train_op, cross_entropy_loss, input_image,\n",
    "                 correct_label, keep_prob, learning_rate)\n",
    "            \n",
    "        # Save inference data using helper.save_inference_samples\n",
    "        helper.save_inference_samples(runs_dir, data_dir, sess, image_shape, logits, keep_prob, input_image)\n",
    "        \n",
    "\n",
    "        # OPTIONAL: Apply the trained model to a video"
   ]
  },
  {
   "cell_type": "code",
   "execution_count": 8,
   "metadata": {},
   "outputs": [
    {
     "name": "stderr",
     "output_type": "stream",
     "text": [
      "W0907 03:05:49.817796 139671454058240 deprecation.py:323] From <ipython-input-3-fef7e0319af8>:16: load (from tensorflow.python.saved_model.loader_impl) is deprecated and will be removed in a future version.\n",
      "Instructions for updating:\n",
      "This function will only be available through the v1 compatibility library as tf.compat.v1.saved_model.loader.load or tf.compat.v1.saved_model.load. There will be a new function for importing SavedModels in Tensorflow 2.0.\n",
      "W0907 03:05:52.031763 139671454058240 deprecation.py:323] From /home/alex/anaconda3/lib/python3.7/site-packages/tensorflow/python/training/saver.py:1276: checkpoint_exists (from tensorflow.python.training.checkpoint_management) is deprecated and will be removed in a future version.\n",
      "Instructions for updating:\n",
      "Use standard file APIs to check for files with this prefix.\n"
     ]
    }
   ],
   "source": [
    "if __name__ == '__main__':\n",
    "    run()"
   ]
  },
  {
   "cell_type": "code",
   "execution_count": null,
   "metadata": {},
   "outputs": [],
   "source": []
  }
 ],
 "metadata": {
  "kernelspec": {
   "display_name": "Python 3",
   "language": "python",
   "name": "python3"
  },
  "language_info": {
   "codemirror_mode": {
    "name": "ipython",
    "version": 3
   },
   "file_extension": ".py",
   "mimetype": "text/x-python",
   "name": "python",
   "nbconvert_exporter": "python",
   "pygments_lexer": "ipython3",
   "version": "3.7.3"
  }
 },
 "nbformat": 4,
 "nbformat_minor": 2
}
